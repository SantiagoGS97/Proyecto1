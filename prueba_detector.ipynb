{
 "cells": [
  {
   "cell_type": "code",
   "execution_count": 3,
   "metadata": {},
   "outputs": [
    {
     "name": "stderr",
     "output_type": "stream",
     "text": [
      "2024-07-20 13:33:55.610278: I tensorflow/core/util/port.cc:113] oneDNN custom operations are on. You may see slightly different numerical results due to floating-point round-off errors from different computation orders. To turn them off, set the environment variable `TF_ENABLE_ONEDNN_OPTS=0`.\n",
      "2024-07-20 13:33:55.611572: I external/local_tsl/tsl/cuda/cudart_stub.cc:31] Could not find cuda drivers on your machine, GPU will not be used.\n",
      "2024-07-20 13:33:55.630509: E external/local_xla/xla/stream_executor/cuda/cuda_dnn.cc:9261] Unable to register cuDNN factory: Attempting to register factory for plugin cuDNN when one has already been registered\n",
      "2024-07-20 13:33:55.630527: E external/local_xla/xla/stream_executor/cuda/cuda_fft.cc:607] Unable to register cuFFT factory: Attempting to register factory for plugin cuFFT when one has already been registered\n",
      "2024-07-20 13:33:55.631097: E external/local_xla/xla/stream_executor/cuda/cuda_blas.cc:1515] Unable to register cuBLAS factory: Attempting to register factory for plugin cuBLAS when one has already been registered\n",
      "2024-07-20 13:33:55.634438: I external/local_tsl/tsl/cuda/cudart_stub.cc:31] Could not find cuda drivers on your machine, GPU will not be used.\n",
      "2024-07-20 13:33:55.635004: I tensorflow/core/platform/cpu_feature_guard.cc:182] This TensorFlow binary is optimized to use available CPU instructions in performance-critical operations.\n",
      "To enable the following instructions: AVX2 AVX_VNNI FMA, in other operations, rebuild TensorFlow with the appropriate compiler flags.\n",
      "2024-07-20 13:33:56.024545: W tensorflow/compiler/tf2tensorrt/utils/py_utils.cc:38] TF-TRT Warning: Could not find TensorRT\n"
     ]
    }
   ],
   "source": [
    "from tkinter import *\n",
    "from tkinter import ttk, font, filedialog, Entry\n",
    "from tkinter.messagebox import askokcancel, showinfo, WARNING\n",
    "import getpass\n",
    "from PIL import ImageTk, Image\n",
    "from tensorflow.keras import backend as K\n",
    "import csv\n",
    "import pyautogui\n",
    "import tkcap\n",
    "import img2pdf\n",
    "import numpy as np\n",
    "import time\n",
    "import pydicom as dicom\n",
    "import tensorflow as tf\n",
    "tf.compat.v1.disable_eager_execution()\n",
    "tf.compat.v1.experimental.output_all_intermediates(True)\n",
    "import cv2"
   ]
  },
  {
   "cell_type": "code",
   "execution_count": 2,
   "metadata": {},
   "outputs": [],
   "source": [
    "def model_fun():\n",
    "    model = tf.keras.models.load_model('./models/conv_MLP_84.h5')\n",
    "    return model"
   ]
  },
  {
   "cell_type": "code",
   "execution_count": 3,
   "metadata": {},
   "outputs": [],
   "source": [
    "def preprocess(array):\n",
    "    array = cv2.resize(array, (512, 512))\n",
    "    array = cv2.cvtColor(array, cv2.COLOR_BGR2GRAY)\n",
    "    clahe = cv2.createCLAHE(clipLimit=2.0, tileGridSize=(4, 4))\n",
    "    array = clahe.apply(array)\n",
    "    array = array / 255\n",
    "    array = np.expand_dims(array, axis=-1)\n",
    "    array = np.expand_dims(array, axis=0)\n",
    "    return array"
   ]
  },
  {
   "cell_type": "code",
   "execution_count": 4,
   "metadata": {},
   "outputs": [],
   "source": [
    "def grad_cam(array):\n",
    "    img = preprocess(array)\n",
    "    model = model_fun()\n",
    "    preds = model.predict(img)\n",
    "    argmax = np.argmax(preds[0])\n",
    "    output = model.output[:, argmax]\n",
    "    last_conv_layer = model.get_layer(\"conv10_thisone\")\n",
    "    grads = K.gradients(output, last_conv_layer.output)[0]\n",
    "    pooled_grads = K.mean(grads, axis=(0, 1, 2))\n",
    "    iterate = K.function([model.input], [pooled_grads, last_conv_layer.output[0]])\n",
    "    pooled_grads_value, conv_layer_output_value = iterate(img)\n",
    "    for filters in range(64):\n",
    "        conv_layer_output_value[:, :, filters] *= pooled_grads_value[filters]\n",
    "    # creating the heatmap\n",
    "    heatmap = np.mean(conv_layer_output_value, axis=-1)\n",
    "    heatmap = np.maximum(heatmap, 0)  # ReLU\n",
    "    heatmap /= np.max(heatmap)  # normalize\n",
    "    heatmap = cv2.resize(heatmap, (img.shape[1], img.shape[2]))\n",
    "    heatmap = np.uint8(255 * heatmap)\n",
    "    heatmap = cv2.applyColorMap(heatmap, cv2.COLORMAP_JET)\n",
    "    img2 = cv2.resize(array, (512, 512))\n",
    "    hif = 0.8\n",
    "    transparency = heatmap * hif\n",
    "    transparency = transparency.astype(np.uint8)\n",
    "    superimposed_img = cv2.add(transparency, img2)\n",
    "    superimposed_img = superimposed_img.astype(np.uint8)\n",
    "    return superimposed_img[:, :, ::-1]"
   ]
  },
  {
   "cell_type": "code",
   "execution_count": 5,
   "metadata": {},
   "outputs": [],
   "source": [
    "def predict(array):\n",
    "    #   1. call function to pre-process image: it returns image in batch format\n",
    "    batch_array_img = preprocess(array)\n",
    "    #   2. call function to load model and predict: it returns predicted class and probability\n",
    "    model = model_fun()\n",
    "    # model_cnn = tf.keras.models.load_model('conv_MLP_84.h5')\n",
    "    prediction = np.argmax(model.predict(batch_array_img))\n",
    "    proba = np.max(model.predict(batch_array_img)) * 100\n",
    "    label = \"\"\n",
    "    if prediction == 0:\n",
    "        label = \"bacteriana\"\n",
    "    if prediction == 1:\n",
    "        label = \"normal\"\n",
    "    if prediction == 2:\n",
    "        label = \"viral\"\n",
    "    #   3. call function to generate Grad-CAM: it returns an image with a superimposed heatmap\n",
    "    heatmap = grad_cam(array)\n",
    "    return (label, proba, heatmap)"
   ]
  },
  {
   "cell_type": "code",
   "execution_count": 6,
   "metadata": {},
   "outputs": [],
   "source": [
    "self = './imagenes/viral (2).dcm'\n",
    "def read_dicom_file(self):\n",
    "    img = dicom.read_file(self)\n",
    "    img_array = img.pixel_array\n",
    "    img2show = Image.fromarray(img_array)\n",
    "    img2 = img_array.astype(float)\n",
    "    img2 = (np.maximum(img2, 0) / img2.max()) * 255.0\n",
    "    img2 = np.uint8(img2)\n",
    "    img_RGB = cv2.cvtColor(img2, cv2.COLOR_GRAY2RGB)\n",
    "    return img_RGB, img2show"
   ]
  },
  {
   "cell_type": "code",
   "execution_count": 7,
   "metadata": {},
   "outputs": [],
   "source": [
    "# self = './imagenes/viral (2).dcm'\n",
    "# read_dicom_file(self)"
   ]
  },
  {
   "cell_type": "code",
   "execution_count": 8,
   "metadata": {},
   "outputs": [],
   "source": [
    "class ImageReader:\n",
    "    def __init__(self,filepath):\n",
    "        self.filepath = filedialog.askopenfilename(initialdir=\"./\",title=\"Select image\",\n",
    "                                                        filetypes=((\"DICOM\", \"*.dcm\"),(\"JPEG\", \"*.jpeg\"),(\"jpg files\", \"*.jpg\"),(\"png files\", \"*.png\")))\n",
    "    \n",
    "    def read_dicom_file(self):\n",
    "        img = dicom.read_file(self.filepath)\n",
    "        img_array = img.pixel_array\n",
    "        img2show = Image.fromarray(img_array)\n",
    "        img2 = img_array.astype(float)\n",
    "        img2 = (np.maximum(img2, 0) / img2.max()) * 255.0\n",
    "        img2 = np.uint8(img2)\n",
    "        img_RGB = cv2.cvtColor(img2, cv2.COLOR_GRAY2RGB)\n",
    "        return img2, img2show\n",
    "    \n",
    "    def read_jpg_file(self):\n",
    "        img = cv2.imread(self.filepath)\n",
    "        img_array = np.asarray(img)\n",
    "        img2show = Image.fromarray(img_array)\n",
    "        img2 = img_array.astype(float)\n",
    "        img2 = (np.maximum(img2, 0) / img2.max()) * 255.0\n",
    "        img2 = np.uint8(img2)\n",
    "        return img2, img2show\n",
    "\n",
    "    def process_image(self):\n",
    "        if self.filepath.lower().endswith('.dcm'):\n",
    "            return self.read_dicom_file()\n",
    "        elif self.filepath.lower().endswith(('.jpg', '.jpeg', '.png')):\n",
    "            return self.read_jpg_file()\n",
    "        else:\n",
    "            raise ValueError(\"Unsupported file format\")"
   ]
  },
  {
   "cell_type": "code",
   "execution_count": 9,
   "metadata": {},
   "outputs": [],
   "source": [
    "# filepath = filepath = filedialog.askopenfilename(initialdir=\"./\",title=\"Select image\",\n",
    "#                                                  filetypes=((\"DICOM\", \"*.dcm\"),(\"JPEG\", \"*.jpeg\"),(\"jpg files\", \"*.jpg\"),(\"png files\", \"*.png\")))\n",
    "# file_extension = filepath[filepath.find(\".\"):]\n",
    "# file_extension"
   ]
  },
  {
   "cell_type": "code",
   "execution_count": 10,
   "metadata": {},
   "outputs": [],
   "source": [
    "#file_path = '/home/santenana/EspecializacionIA/Bimestre05/proyecto1/imagenes/viral (2).dcm'  # o 'path/to/your/image.jpg'\n",
    "# dicom_reader = ImageReader(self)\n",
    "# dicom_reader\n",
    "# img2, img2show = dicom_reader.read_dicom_file()\n",
    "# img2, img2show"
   ]
  },
  {
   "cell_type": "code",
   "execution_count": 11,
   "metadata": {},
   "outputs": [],
   "source": [
    "def preprocess(array):\n",
    "    array = cv2.resize(array, (512, 512))\n",
    "    array = cv2.cvtColor(array, cv2.COLOR_BGR2GRAY)\n",
    "    clahe = cv2.createCLAHE(clipLimit=2.0, tileGridSize=(4, 4))\n",
    "    array = clahe.apply(array)\n",
    "    array = array / 255\n",
    "    array = np.expand_dims(array, axis=-1)\n",
    "    array = np.expand_dims(array, axis=0)\n",
    "    return array"
   ]
  },
  {
   "cell_type": "code",
   "execution_count": 12,
   "metadata": {},
   "outputs": [],
   "source": [
    "class App():\n",
    "    def __init__(self):\n",
    "        self.root = Tk()\n",
    "        self.root.title(\"Herramienta para la detección rápida de neumonía\")\n",
    "\n",
    "        #   BOLD FONT\n",
    "        fonti = font.Font(weight=\"bold\")\n",
    "\n",
    "        self.root.geometry(\"815x560\")\n",
    "        self.root.resizable(0, 0)\n",
    "\n",
    "        #   LABELS\n",
    "        self.lab1 = ttk.Label(self.root, text=\"Imagen Radiográfica\", font=fonti)\n",
    "        self.lab2 = ttk.Label(self.root, text=\"Imagen con Heatmap\", font=fonti)\n",
    "        self.lab3 = ttk.Label(self.root, text=\"Resultado:\", font=fonti)\n",
    "        self.lab4 = ttk.Label(self.root, text=\"Cédula Paciente:\", font=fonti)\n",
    "        self.lab5 = ttk.Label(self.root,text=\"SOFTWARE PARA EL APOYO AL DIAGNÓSTICO MÉDICO DE NEUMONÍA\",font=fonti)\n",
    "        # self.lab6 = ttk.Label(self.root, text=\"Probabilidad:\", font=fonti)\n",
    "\n",
    "        #   TWO STRING VARIABLES TO CONTAIN ID AND RESULT\n",
    "        self.ID = StringVar()\n",
    "        self.result = StringVar()\n",
    "\n",
    "        #   TWO INPUT BOXES\n",
    "        self.text1 = ttk.Entry(self.root, textvariable=self.ID, width=10)\n",
    "\n",
    "        #   GET ID\n",
    "        self.ID_content = self.text1.get()\n",
    "\n",
    "        #   TWO IMAGE INPUT BOXES\n",
    "        self.text_img1 = Text(self.root, width=31, height=15)\n",
    "        self.text_img2 = Text(self.root, width=31, height=15)\n",
    "        self.separator = ttk.Separator(self.root, orient=HORIZONTAL)\n",
    "        self.text2 = Text(self.root)\n",
    "        self.text3 = Text(self.root)\n",
    "\n",
    "        #   BUTTONS\n",
    "        self.button1 = ttk.Button(self.root, text=\"Predecir\", command=self.run_model)\n",
    "        self.button2 = ttk.Button(self.root, text=\"Cargar Imagen\", command=self.load_img_file)\n",
    "        self.button3 = ttk.Button(self.root, text=\"Borrar\", command=self.delete)\n",
    "        self.button4 = ttk.Button(self.root, text=\"PDF\", command=self.create_pdf)\n",
    "        self.button6 = ttk.Button(self.root, text=\"Guardar\", command=self.save_results_csv)\n",
    "\n",
    "        #   WIDGETS POSITIONS\n",
    "        self.lab1.place(x=110, y=65)\n",
    "        self.lab2.place(x=545, y=65)\n",
    "        self.lab3.place(x=500, y=350)\n",
    "        self.lab4.place(x=65, y=350)\n",
    "        self.lab5.place(x=122, y=25)\n",
    "        # self.lab6.place(x=500, y=400)\n",
    "        self.button1.place(x=220, y=460)\n",
    "        self.button2.place(x=70, y=460)\n",
    "        self.button3.place(x=670, y=460)\n",
    "        self.button4.place(x=520, y=460)\n",
    "        self.button6.place(x=370, y=460)\n",
    "        self.text1.place(x=200, y=350)\n",
    "        self.text2.place(x=610, y=350, width=90, height=30)\n",
    "        self.text3.place(x=610, y=400, width=90, height=30)\n",
    "        self.text_img1.place(x=65, y=90)\n",
    "        self.text_img2.place(x=500, y=90)\n",
    "\n",
    "        #   FOCUS ON PATIENT ID\n",
    "        self.text1.focus_set()\n",
    "\n",
    "        #  se reconoce como un elemento de la clase\n",
    "        self.array = None\n",
    "\n",
    "        #   NUMERO DE IDENTIFICACIÓN PARA GENERAR PDF\n",
    "        self.reportID = 0\n",
    "\n",
    "        #   RUN LOOP\n",
    "        self.root.mainloop()\n",
    "\n",
    "    #   METHODS\n",
    "    def load_img_file(self):\n",
    "        img_reader = ImageReader.process_image()\n",
    "        img_reader\n",
    "        self.array, img2show = img_reader.read_dicom_file()\n",
    "        self.img1 = img2show.resize((250, 250), Image.Resampling.LANCZOS)\n",
    "        self.img1 = ImageTk.PhotoImage(self.img1)\n",
    "        self.text_img1.image_create(END, image=self.img1)\n",
    "        self.button1[\"state\"] = \"enabled\"\n",
    "\n",
    "    \n",
    "    \n",
    "    # def load_img_file(self):\n",
    "    #     filepath = filedialog.askopenfilename(\n",
    "    #         initialdir=\"./\",\n",
    "    #         title=\"Select image\",\n",
    "    #         filetypes=((\"DICOM\", \"*.dcm\"),(\"JPEG\", \"*.jpeg\"),(\"jpg files\", \"*.jpg\"),(\"png files\", \"*.png\")))\n",
    "    #     if filepath:\n",
    "    #         if filepath[filepath.find(\".\"):] == \".dcm\":\n",
    "    #             self.array, img2show = read_dicom_file(filepath)\n",
    "    #         else:\n",
    "    #             self.array, img2show = read_jpg_file(filepath)\n",
    "    #         self.img1 = img2show.resize((250, 250), Image.Resampling.LANCZOS)\n",
    "    #         self.img1 = ImageTk.PhotoImage(self.img1)\n",
    "    #         self.text_img1.image_create(END, image=self.img1)\n",
    "    #         self.button1[\"state\"] = \"enabled\"\n",
    "\n",
    "    def run_model(self):\n",
    "        self.label, self.proba, self.heatmap = predict(self.array)\n",
    "        self.img2 = Image.fromarray(self.heatmap)\n",
    "        self.img2 = self.img2.resize((250, 250), Image.Resampling.LANCZOS)\n",
    "        self.img2 = ImageTk.PhotoImage(self.img2)\n",
    "        print(\"OK\")\n",
    "        self.text_img2.image_create(END, image=self.img2)\n",
    "        self.text2.insert(END, self.label)\n",
    "        self.text3.insert(END, \"{:.2f}\".format(self.proba) + \"%\")\n",
    "\n",
    "    def save_results_csv(self):\n",
    "        with open(\"historial.csv\", \"a\") as csvfile:\n",
    "            w = csv.writer(csvfile, delimiter=\"-\")\n",
    "            w.writerow([self.text1.get(), self.label, \"{:.2f}\".format(self.proba) + \"%\"])\n",
    "            showinfo(title=\"Guardar\", message=\"Los datos se guardaron con éxito.\")\n",
    "\n",
    "    def create_pdf(self):\n",
    "        cap = tkcap.CAP(self.root)\n",
    "        ID = \"Reporte\" + str(self.reportID) + \".jpg\"\n",
    "        img = cap.capture(ID)\n",
    "        img = Image.open(ID)\n",
    "        img = img.convert(\"RGB\")\n",
    "        pdf_path = r\"Reporte\" + str(self.reportID) + \".pdf\"\n",
    "        img.save(pdf_path)\n",
    "        self.reportID += 1\n",
    "        showinfo(title=\"PDF\", message=\"El PDF fue generado con éxito.\")\n",
    "\n",
    "    def delete(self):\n",
    "        answer = askokcancel(title=\"Confirmación\", message=\"Se borrarán todos los datos.\", icon=WARNING)\n",
    "        if answer:\n",
    "            self.text1.delete(0, \"end\")\n",
    "            self.text2.delete(1.0, \"end\")\n",
    "            self.text3.delete(1.0, \"end\")\n",
    "            self.text_img1.delete(self.img1, \"end\")\n",
    "            self.text_img2.delete(self.img2, \"end\")\n",
    "            showinfo(title=\"Borrar\", message=\"Los datos se borraron con éxito\")"
   ]
  },
  {
   "cell_type": "code",
   "execution_count": 13,
   "metadata": {},
   "outputs": [],
   "source": [
    "# model = tf.keras.models.load_model('./models/conv_MLP_84.h5')"
   ]
  },
  {
   "cell_type": "code",
   "execution_count": 14,
   "metadata": {},
   "outputs": [],
   "source": [
    "# def main():\n",
    "#     my_app = App()\n",
    "#     return 0\n",
    "\n",
    "\n",
    "# if __name__ == \"__main__\":\n",
    "#     main()"
   ]
  },
  {
   "cell_type": "code",
   "execution_count": 15,
   "metadata": {},
   "outputs": [],
   "source": [
    "class ImageReader:\n",
    "    def __init__(self,filepath):\n",
    "        self.filepath = filepath\n",
    "        \n",
    "    def read_dicom_file(self):\n",
    "        img = dicom.read_file(self.filepath)\n",
    "        img_array = img.pixel_array\n",
    "        img2show = Image.fromarray(img_array)\n",
    "        img2 = img_array.astype(float)\n",
    "        img2 = (np.maximum(img2, 0) / img2.max()) * 255.0\n",
    "        img2 = np.uint8(img2)\n",
    "        img_RGB = cv2.cvtColor(img2, cv2.COLOR_GRAY2RGB)\n",
    "        return img2, img2show\n",
    "    \n",
    "    def read_jpg_file(self):\n",
    "        img = cv2.imread(self.filepath)\n",
    "        img_array = np.asarray(img)\n",
    "        img2show = Image.fromarray(img_array)\n",
    "        img2 = img_array.astype(float)\n",
    "        img2 = (np.maximum(img2, 0) / img2.max()) * 255.0\n",
    "        img2 = np.uint8(img2)\n",
    "        return img2, img2show\n",
    "\n",
    "    def process_image(self):\n",
    "        if self.filepath.lower().endswith('.dcm'):\n",
    "            return self.read_dicom_file()\n",
    "        elif self.filepath.lower().endswith(('.jpg', '.jpeg', '.png')):\n",
    "            return self.read_jpg_file()\n",
    "        else:\n",
    "            raise ValueError(\"Unsupported file format\")"
   ]
  },
  {
   "cell_type": "code",
   "execution_count": 25,
   "metadata": {},
   "outputs": [
    {
     "data": {
      "text/plain": [
       "array([[ 53,  48,  42, ..., 213, 210, 210],\n",
       "       [ 51,  45,  41, ..., 206, 206, 207],\n",
       "       [ 48,  44,  40, ..., 204, 207, 209],\n",
       "       ...,\n",
       "       [ 34,  34,  34, ..., 179, 179, 183],\n",
       "       [ 37,  37,  37, ..., 180, 179, 183],\n",
       "       [ 40,  40,  38, ..., 182, 180, 182]], dtype=uint8)"
      ]
     },
     "execution_count": 25,
     "metadata": {},
     "output_type": "execute_result"
    }
   ],
   "source": [
    "filepath = './imagenes/normal (3).dcm'\n",
    "processor = ImageReader(filepath)\n",
    "img2, img2show = processor.process_image()\n",
    "img2, img2show\n",
    "img1 = img2show.resize((250, 250), Image.Resampling.LANCZOS)\n",
    "img2\n",
    "# text_img1.image_create(END, image= img1)\n",
    "# button1[\"state\"] = \"enabled\""
   ]
  },
  {
   "cell_type": "code",
   "execution_count": null,
   "metadata": {},
   "outputs": [],
   "source": []
  },
  {
   "cell_type": "code",
   "execution_count": 28,
   "metadata": {},
   "outputs": [],
   "source": [
    "def read_dicom_file(self):\n",
    "    img = dicom.read_file(self)\n",
    "    img_array = img.pixel_array\n",
    "    img2show = Image.fromarray(img_array)\n",
    "    img2 = img_array.astype(float)\n",
    "    img2 = (np.maximum(img2, 0) / img2.max()) * 255.0\n",
    "    img2 = np.uint8(img2)\n",
    "    img_RGB = cv2.cvtColor(img2, cv2.COLOR_GRAY2RGB)\n",
    "    return img_RGB, img2show\n",
    "    \n",
    "def read_jpg_file(self):\n",
    "    img = cv2.imread(self)\n",
    "    img_array = np.asarray(img)\n",
    "    img2show = Image.fromarray(img_array)\n",
    "    img2 = img_array.astype(float)\n",
    "    img2 = (np.maximum(img2, 0) / img2.max()) * 255.0\n",
    "    img2 = np.uint8(img2)\n",
    "    return img2, img2show"
   ]
  },
  {
   "cell_type": "code",
   "execution_count": 32,
   "metadata": {},
   "outputs": [],
   "source": [
    "def load_img_file():\n",
    "    filepath = './imagenes/normal (3).dcm'\n",
    "    if filepath:\n",
    "        if filepath[filepath.find(\".\"):] == \".dcm\":\n",
    "            array, img2show = read_dicom_file(filepath)\n",
    "        else:\n",
    "            array, img2show = read_jpg_file(filepath)\n",
    "    img1 = img2show.resize((250, 250), Image.Resampling.LANCZOS)\n",
    "    return img1"
   ]
  },
  {
   "cell_type": "code",
   "execution_count": 4,
   "metadata": {},
   "outputs": [],
   "source": [
    "def read_jpg_file(filepath):\n",
    "    img = cv2.imread(filepath)\n",
    "    img_array = np.asarray(img)\n",
    "    img2show = Image.fromarray(img_array)\n",
    "    img2 = img_array.astype(float)\n",
    "    img2 = (np.maximum(img2, 0) / img2.max()) * 255.0\n",
    "    img2 = np.uint8(img2)\n",
    "    return img2, img2show"
   ]
  },
  {
   "cell_type": "code",
   "execution_count": 8,
   "metadata": {},
   "outputs": [
    {
     "data": {
      "text/plain": [
       "PIL.Image.Image"
      ]
     },
     "execution_count": 8,
     "metadata": {},
     "output_type": "execute_result"
    }
   ],
   "source": [
    "type(read_jpg_file('./imagenes/00009234_000.jpg')[1])"
   ]
  },
  {
   "cell_type": "code",
   "execution_count": 9,
   "metadata": {},
   "outputs": [
    {
     "data": {
      "text/plain": [
       "numpy.ndarray"
      ]
     },
     "execution_count": 9,
     "metadata": {},
     "output_type": "execute_result"
    }
   ],
   "source": [
    "type(read_jpg_file('./imagenes/00009234_000.jpg')[0])"
   ]
  },
  {
   "cell_type": "code",
   "execution_count": 20,
   "metadata": {},
   "outputs": [],
   "source": [
    "# def run_model(array):\n",
    "#     label, proba, heatmap = predict(array)\n",
    "#     img2 = Image.fromarray(heatmap)\n",
    "#     img2 = img2.resize((250, 250), Image.Resampling.LANCZOS)\n",
    "#     img2\n",
    "    # img2 = ImageTk.PhotoImage(img2)\n",
    "    # print(\"OK\")\n",
    "    # text_img2.image_create(END, image=img2)\n",
    "    # text2.insert(END, label)\n",
    "    # text3.insert(END, \"{:.2f}\".format(proba) + \"%\")"
   ]
  },
  {
   "cell_type": "code",
   "execution_count": 21,
   "metadata": {},
   "outputs": [
    {
     "name": "stdout",
     "output_type": "stream",
     "text": [
      "WARNING:tensorflow:From /home/santenana/EspecializacionIA/Bimestre05/proyecto1/env_neumonia/lib/python3.10/site-packages/keras/src/layers/normalization/batch_normalization.py:883: _colocate_with (from tensorflow.python.framework.ops) is deprecated and will be removed in a future version.\n",
      "Instructions for updating:\n",
      "Colocations handled automatically by placer.\n"
     ]
    },
    {
     "name": "stderr",
     "output_type": "stream",
     "text": [
      "2024-07-20 11:20:22.240136: I external/local_xla/xla/stream_executor/cuda/cuda_executor.cc:887] could not open file to read NUMA node: /sys/bus/pci/devices/0000:01:00.0/numa_node\n",
      "Your kernel may have been built without NUMA support.\n",
      "2024-07-20 11:20:22.328098: W tensorflow/core/common_runtime/gpu/gpu_device.cc:2256] Cannot dlopen some GPU libraries. Please make sure the missing libraries mentioned above are installed properly if you would like to use GPU. Follow the guide at https://www.tensorflow.org/install/gpu for how to download and setup the required libraries for your platform.\n",
      "Skipping registering GPU devices...\n",
      "2024-07-20 11:20:22.867367: I tensorflow/compiler/mlir/mlir_graph_optimization_pass.cc:388] MLIR V1 optimization pass is not enabled\n",
      "2024-07-20 11:20:22.928039: W tensorflow/c/c_api.cc:305] Operation '{name:'bn_conv10/moving_variance/Assign' id:1015 op device:{requested: '', assigned: ''} def:{{{node bn_conv10/moving_variance/Assign}} = AssignVariableOp[_has_manual_control_dependencies=true, dtype=DT_FLOAT, validate_shape=false](bn_conv10/moving_variance, bn_conv10/moving_variance/Initializer/ones)}}' was changed by setting attribute after it was run by a session. This mutation will have no effect, and will trigger an error in the future. Either don't modify nodes after running them or create a new session.\n",
      "2024-07-20 11:20:23.477833: W tensorflow/c/c_api.cc:305] Operation '{name:'bn_conv9/gamma/v/Assign' id:2323 op device:{requested: '', assigned: ''} def:{{{node bn_conv9/gamma/v/Assign}} = AssignVariableOp[_has_manual_control_dependencies=true, dtype=DT_FLOAT, validate_shape=false](bn_conv9/gamma/v, bn_conv9/gamma/v/Initializer/zeros)}}' was changed by setting attribute after it was run by a session. This mutation will have no effect, and will trigger an error in the future. Either don't modify nodes after running them or create a new session.\n",
      "/home/santenana/EspecializacionIA/Bimestre05/proyecto1/env_neumonia/lib/python3.10/site-packages/keras/src/engine/training_v1.py:2359: UserWarning: `Model.state_updates` will be removed in a future version. This property should not be used in TensorFlow 2.0, as `updates` are applied automatically.\n",
      "  updates=self.state_updates,\n",
      "2024-07-20 11:20:23.974157: W tensorflow/c/c_api.cc:305] Operation '{name:'fc3/Softmax' id:1181 op device:{requested: '', assigned: ''} def:{{{node fc3/Softmax}} = Softmax[T=DT_FLOAT, _has_manual_control_dependencies=true](fc3/BiasAdd)}}' was changed by setting attribute after it was run by a session. This mutation will have no effect, and will trigger an error in the future. Either don't modify nodes after running them or create a new session.\n",
      "2024-07-20 11:20:24.922466: W tensorflow/c/c_api.cc:305] Operation '{name:'bn_conv4_1/gamma/Assign' id:3290 op device:{requested: '', assigned: ''} def:{{{node bn_conv4_1/gamma/Assign}} = AssignVariableOp[_has_manual_control_dependencies=true, dtype=DT_FLOAT, validate_shape=false](bn_conv4_1/gamma, bn_conv4_1/gamma/Initializer/ones)}}' was changed by setting attribute after it was run by a session. This mutation will have no effect, and will trigger an error in the future. Either don't modify nodes after running them or create a new session.\n",
      "2024-07-20 11:20:25.547412: W tensorflow/c/c_api.cc:305] Operation '{name:'beta_2_1/Assign' id:4624 op device:{requested: '', assigned: ''} def:{{{node beta_2_1/Assign}} = AssignVariableOp[_has_manual_control_dependencies=true, dtype=DT_FLOAT, validate_shape=false](beta_2_1, beta_2_1/Initializer/initial_value)}}' was changed by setting attribute after it was run by a session. This mutation will have no effect, and will trigger an error in the future. Either don't modify nodes after running them or create a new session.\n",
      "2024-07-20 11:20:26.107964: W tensorflow/c/c_api.cc:305] Operation '{name:'fc3_1/Softmax' id:4131 op device:{requested: '', assigned: ''} def:{{{node fc3_1/Softmax}} = Softmax[T=DT_FLOAT, _has_manual_control_dependencies=true](fc3_1/BiasAdd)}}' was changed by setting attribute after it was run by a session. This mutation will have no effect, and will trigger an error in the future. Either don't modify nodes after running them or create a new session.\n"
     ]
    }
   ],
   "source": [
    "# run_model(load_img_file()[1])"
   ]
  },
  {
   "cell_type": "code",
   "execution_count": 22,
   "metadata": {},
   "outputs": [],
   "source": [
    "def read_dicom_file(self):\n",
    "    img = dicom.read_file(self)\n",
    "    img_array = img.pixel_array\n",
    "    img2show = Image.fromarray(img_array)\n",
    "    img2 = img_array.astype(float)\n",
    "    img2 = (np.maximum(img2, 0) / img2.max()) * 255.0\n",
    "    img2 = np.uint8(img2)\n",
    "    img_RGB = cv2.cvtColor(img2, cv2.COLOR_GRAY2RGB)\n",
    "    return img_RGB, img2show\n",
    "    \n",
    "def read_jpg_file(self):\n",
    "    img = cv2.imread(self)\n",
    "    img_array = np.asarray(img)\n",
    "    img2show = Image.fromarray(img_array)\n",
    "    img2 = img_array.astype(float)\n",
    "    img2 = (np.maximum(img2, 0) / img2.max()) * 255.0\n",
    "    img2 = np.uint8(img2)\n",
    "    return img2, img2show"
   ]
  },
  {
   "cell_type": "code",
   "execution_count": 23,
   "metadata": {},
   "outputs": [],
   "source": [
    "def load_img_file():\n",
    "    filepath = filedialog.askopenfilename(\n",
    "        initialdir=\"./\",\n",
    "        title=\"Select image\",\n",
    "        filetypes=((\"DICOM\", \"*.dcm\"),(\"JPEG\", \"*.jpeg\"),(\"jpg files\", \"*.jpg\"),(\"png files\", \"*.png\")))\n",
    "    if filepath:\n",
    "        if filepath[filepath.find(\".\"):] == \".dcm\":\n",
    "            array, img2show = read_dicom_file(filepath)\n",
    "        else:\n",
    "            array, img2show = read_jpg_file(filepath)\n",
    "        img1 = img2show.resize((250, 250), Image.Resampling.LANCZOS)\n",
    "        # img1 = ImageTk.PhotoImage(img1)\n",
    "        # self.text_img1.image_create(END, image=self.img1)\n",
    "        # self.button1[\"state\"] = \"enabled\"\n",
    "    return img1, img2show"
   ]
  },
  {
   "cell_type": "code",
   "execution_count": 24,
   "metadata": {},
   "outputs": [
    {
     "data": {
      "text/plain": [
       "(<PIL.Image.Image image mode=L size=250x250>,\n",
       " <PIL.Image.Image image mode=L size=1024x1024>)"
      ]
     },
     "execution_count": 24,
     "metadata": {},
     "output_type": "execute_result"
    }
   ],
   "source": [
    "load_img_file()"
   ]
  }
 ],
 "metadata": {
  "kernelspec": {
   "display_name": "base",
   "language": "python",
   "name": "python3"
  },
  "language_info": {
   "codemirror_mode": {
    "name": "ipython",
    "version": 3
   },
   "file_extension": ".py",
   "mimetype": "text/x-python",
   "name": "python",
   "nbconvert_exporter": "python",
   "pygments_lexer": "ipython3",
   "version": "3.10.0"
  }
 },
 "nbformat": 4,
 "nbformat_minor": 2
}
